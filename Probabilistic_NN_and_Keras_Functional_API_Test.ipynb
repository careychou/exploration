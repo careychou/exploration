{
  "nbformat": 4,
  "nbformat_minor": 0,
  "metadata": {
    "colab": {
      "name": "Probabilistic NN and Keras Functional API Test.ipynb",
      "provenance": [],
      "collapsed_sections": [],
      "authorship_tag": "ABX9TyNdnWxeA4EpopMZuibEeFLa",
      "include_colab_link": true
    },
    "kernelspec": {
      "name": "python3",
      "display_name": "Python 3"
    },
    "language_info": {
      "name": "python"
    }
  },
  "cells": [
    {
      "cell_type": "markdown",
      "metadata": {
        "id": "view-in-github",
        "colab_type": "text"
      },
      "source": [
        "<a href=\"https://colab.research.google.com/github/careychou/exploration/blob/master/Probabilistic_NN_and_Keras_Functional_API_Test.ipynb\" target=\"_parent\"><img src=\"https://colab.research.google.com/assets/colab-badge.svg\" alt=\"Open In Colab\"/></a>"
      ]
    },
    {
      "cell_type": "code",
      "execution_count": 2,
      "metadata": {
        "id": "V2vKtkZz0NDp"
      },
      "outputs": [],
      "source": [
        "import numpy as np\n",
        "import tensorflow as tf\n",
        "import tensorflow_probability as tfp\n",
        "from tensorflow.keras import layers\n",
        "\n",
        "tfd = tfp.distributions\n",
        "tfb = tfp.bijectors"
      ]
    },
    {
      "cell_type": "code",
      "source": [
        "# simple keras functional API\n",
        "inputs = tf.keras.Input(shape=(4,))\n",
        "dense1 = tf.keras.layers.Dense(1, activation=tf.nn.relu)(inputs)\n",
        "dense2 = tf.keras.layers.Dense(1, activation=tf.nn.relu)(dense1)\n",
        "model = tf.keras.Model(inputs=inputs, outputs=dense1)\n",
        "print(dense2)\n",
        "x = np.array([[1., 1.]])\n",
        "tf.keras.layers.Dense(1, activation=tf.nn.relu)(x)\n",
        "#tf.keras.Model(inputs=model, outputs=dense2)\n",
        "model.summary()\n",
        "tf.keras.utils.plot_model(model)"
      ],
      "metadata": {
        "colab": {
          "base_uri": "https://localhost:8080/",
          "height": 417
        },
        "id": "nHz7ctnx7jPG",
        "outputId": "1dd95b73-1183-47ee-fa07-114f2815f698"
      },
      "execution_count": 3,
      "outputs": [
        {
          "output_type": "stream",
          "name": "stdout",
          "text": [
            "KerasTensor(type_spec=TensorSpec(shape=(None, 1), dtype=tf.float32, name=None), name='dense_1/Relu:0', description=\"created by layer 'dense_1'\")\n",
            "Model: \"model\"\n",
            "_________________________________________________________________\n",
            " Layer (type)                Output Shape              Param #   \n",
            "=================================================================\n",
            " input_1 (InputLayer)        [(None, 4)]               0         \n",
            "                                                                 \n",
            " dense (Dense)               (None, 1)                 5         \n",
            "                                                                 \n",
            "=================================================================\n",
            "Total params: 5\n",
            "Trainable params: 5\n",
            "Non-trainable params: 0\n",
            "_________________________________________________________________\n"
          ]
        },
        {
          "output_type": "execute_result",
          "data": {
            "image/png": "[encoded data removed]",
            "text/plain": [
              "<IPython.core.display.Image object>"
            ]
          },
          "metadata": {},
          "execution_count": 3
        }
      ]
    },
    {
      "cell_type": "code",
      "source": [
        "# insert tf operation in functonal API\n",
        "inputs = tf.keras.Input(shape=(2,))\n",
        "weights = tf.Variable([[1., 1.], [1., 1.]], dtype='float32')\n",
        "dense1 = tf.matmul(inputs, weights)\n",
        "dense2 = tf.matmul(dense1, weights)\n",
        "model1 = tf.keras.Model(inputs, dense1)\n",
        "model2 = tf.keras.Model(dense1, dense2)\n",
        "model1(np.array([[1., 1.]]))\n"
      ],
      "metadata": {
        "colab": {
          "base_uri": "https://localhost:8080/"
        },
        "id": "fR4ama4-HDkN",
        "outputId": "459e44b5-6a9c-4037-f6b7-3150a11ddeed"
      },
      "execution_count": 4,
      "outputs": [
        {
          "output_type": "stream",
          "name": "stdout",
          "text": [
            "WARNING:tensorflow:The following Variables were used in a Lambda layer's call (tf.linalg.matmul), but are not present in its tracked objects:   <tf.Variable 'Variable:0' shape=(2, 2) dtype=float32>. This is a strong indication that the Lambda layer should be rewritten as a subclassed Layer.\n",
            "WARNING:tensorflow:The following Variables were used in a Lambda layer's call (tf.linalg.matmul_1), but are not present in its tracked objects:   <tf.Variable 'Variable:0' shape=(2, 2) dtype=float32>. This is a strong indication that the Lambda layer should be rewritten as a subclassed Layer.\n"
          ]
        },
        {
          "output_type": "execute_result",
          "data": {
            "text/plain": [
              "<tf.Tensor: shape=(1, 2), dtype=float32, numpy=array([[2., 2.]], dtype=float32)>"
            ]
          },
          "metadata": {},
          "execution_count": 4
        }
      ]
    },
    {
      "cell_type": "code",
      "source": [
        "# how Functional API build the graph internally\n",
        "inputs = tf.keras.Input(shape=(2,))\n",
        "dense1 = tf.keras.layers.Dense(1, activation=tf.nn.relu)(inputs)\n",
        "dense2 = tf.keras.layers.Dense(1, activation=tf.nn.relu)(dense1)\n",
        "model1 = tf.keras.Model(inputs, dense2)\n",
        "model2 = tf.keras.Model(dense1, dense2)\n",
        "model1(np.array([[1., 1.]]))\n",
        "\n",
        "# this is how Functional API call()\n",
        "from tensorflow.python.keras.engine import functional\n",
        "modelf = functional.Functional(inputs, dense2)\n",
        "modelf._run_internal_graph(tf.constant(np.array([[1., 1.]])))\n",
        "\n",
        "# this is how Functional API call for 1st layer\n",
        "layer, index, _ = dense1._keras_history\n",
        "layer.inbound_nodes[0].layer(tf.constant(np.array([[1., 1.]])))\n"
      ],
      "metadata": {
        "colab": {
          "base_uri": "https://localhost:8080/"
        },
        "id": "AXMUq6IwQKbf",
        "outputId": "5eb042f0-40b5-4ddf-dd3a-e939cd19a565"
      },
      "execution_count": 5,
      "outputs": [
        {
          "output_type": "execute_result",
          "data": {
            "text/plain": [
              "<tf.Tensor: shape=(1, 1), dtype=float32, numpy=array([[0.6664914]], dtype=float32)>"
            ]
          },
          "metadata": {},
          "execution_count": 5
        }
      ]
    },
    {
      "cell_type": "code",
      "source": [
        "inputs = tf.keras.Input(shape=(4,))\n",
        "dense1 = tf.keras.layers.Dense(1, activation=tf.nn.relu)(inputs)\n",
        "dense2 = tf.keras.layers.Dense(1, activation=tf.nn.relu)(dense1)\n",
        "model = tf.keras.Model(inputs=inputs, outputs=dense1)\n",
        "print(dense2)\n",
        "x = np.array([[1., 1.]])"
      ],
      "metadata": {
        "colab": {
          "base_uri": "https://localhost:8080/"
        },
        "id": "C6unVf1987MY",
        "outputId": "8f05d1a3-b548-4b69-f377-20eb74382ea9"
      },
      "execution_count": 6,
      "outputs": [
        {
          "output_type": "stream",
          "name": "stdout",
          "text": [
            "KerasTensor(type_spec=TensorSpec(shape=(None, 1), dtype=tf.float32, name=None), name='dense_6/Relu:0', description=\"created by layer 'dense_6'\")\n"
          ]
        }
      ]
    },
    {
      "cell_type": "code",
      "source": [
        "# use DistributionLambda\n",
        "x = tf.random.normal(shape=(2, 4))\n",
        "dense1 = tf.keras.layers.Dense(1, activation=tf.nn.relu)(x)\n",
        "normal1 = tfp.layers.DistributionLambda(lambda t: tfd.Normal(loc=t, scale=1))(dense1)\n",
        "\n",
        "# TensorCoercible type\n",
        "print(normal1)\n",
        "tf.convert_to_tensor(normal1)"
      ],
      "metadata": {
        "id": "5hlNMK48hhbb",
        "colab": {
          "base_uri": "https://localhost:8080/"
        },
        "outputId": "87675e1d-9d2e-4681-a638-92bb05550d04"
      },
      "execution_count": 16,
      "outputs": [
        {
          "output_type": "stream",
          "name": "stdout",
          "text": [
            "tfp.distributions._TensorCoercible(\"tensor_coercible\", batch_shape=[2, 1], event_shape=[], dtype=float32)\n"
          ]
        },
        {
          "output_type": "execute_result",
          "data": {
            "text/plain": [
              "<tf.Tensor: shape=(2, 1), dtype=float32, numpy=\n",
              "array([[0.05081884],\n",
              "       [0.85472673]], dtype=float32)>"
            ]
          },
          "metadata": {},
          "execution_count": 16
        }
      ]
    },
    {
      "cell_type": "code",
      "source": [
        "# gradient with reparameterization in TFP\n",
        "x = np.array([[1., 1.]])\n",
        "dense1 = tf.keras.layers.Dense(1, activation=tf.nn.relu)\n",
        "normal1 = tfp.layers.DistributionLambda(lambda t: tfd.InverseGaussian(loc=t, concentration=10))\n",
        "\n",
        "with tf.GradientTape() as tape:\n",
        "  y = dense1(x)\n",
        "  print(y)\n",
        "  y = normal1(y)\n",
        "  print(y)\n",
        "  y = y ** 1\n",
        "  print(y)\n",
        "  y = y ** 2\n",
        "  print(y)\n",
        "\n",
        "tape.gradient(y, dense1.trainable_variables)\n",
        "\n"
      ],
      "metadata": {
        "colab": {
          "base_uri": "https://localhost:8080/"
        },
        "id": "f4qA53YCiRyT",
        "outputId": "cd57653f-deae-42a9-c4aa-5e6b642328de"
      },
      "execution_count": 20,
      "outputs": [
        {
          "output_type": "stream",
          "name": "stdout",
          "text": [
            "tf.Tensor([[0.9761405]], shape=(1, 1), dtype=float32)\n",
            "tfp.distributions._TensorCoercible(\"tensor_coercible\", batch_shape=[1, 1], event_shape=[], dtype=float32)\n",
            "tf.Tensor([[1.877592]], shape=(1, 1), dtype=float32)\n",
            "tf.Tensor([[3.5253515]], shape=(1, 1), dtype=float32)\n"
          ]
        },
        {
          "output_type": "execute_result",
          "data": {
            "text/plain": [
              "[<tf.Tensor: shape=(2, 1), dtype=float32, numpy=\n",
              " array([[9.308341],\n",
              "        [9.308341]], dtype=float32)>,\n",
              " <tf.Tensor: shape=(1,), dtype=float32, numpy=array([9.308341], dtype=float32)>]"
            ]
          },
          "metadata": {},
          "execution_count": 20
        }
      ]
    },
    {
      "cell_type": "code",
      "source": [
        "x = tf.random.normal(shape=(2, 4))\n",
        "dense1 = tf.keras.layers.Dense(1, activation=tf.nn.relu)\n",
        "tfp.layers.DistributionLambda(lambda t: tfd.Normal(loc=dense1, scale=1))\n",
        "\n",
        "\n",
        "with tf.GradientTape() as tape:\n",
        "  y = dense1(x)\n",
        "  y = y ** 2\n",
        "\n",
        "\n",
        "tape.gradient(y, dense1.trainable_variables)"
      ],
      "metadata": {
        "colab": {
          "base_uri": "https://localhost:8080/"
        },
        "id": "ccZMaMNz-nON",
        "outputId": "5576f150-fb32-4671-c0d5-cda651847ba5"
      },
      "execution_count": null,
      "outputs": [
        {
          "output_type": "execute_result",
          "data": {
            "text/plain": [
              "[<tf.Tensor: shape=(4, 1), dtype=float32, numpy=\n",
              " array([[ 1.8757645 ],\n",
              "        [ 0.06258097],\n",
              "        [-1.6873056 ],\n",
              "        [-3.0941439 ]], dtype=float32)>,\n",
              " <tf.Tensor: shape=(1,), dtype=float32, numpy=array([2.5390193], dtype=float32)>]"
            ]
          },
          "metadata": {},
          "execution_count": 93
        }
      ]
    },
    {
      "cell_type": "code",
      "source": [
        "# transform with TFB Softplus \n",
        "x = np.array([[1., 1.]])\n",
        "dense1 = tf.keras.layers.Dense(1, activation=tf.nn.relu)\n",
        "lambda1 = tf.keras.layers.Lambda(lambda t: tfb.Softplus()(t))\n",
        "weibull1 = tfp.layers.DistributionLambda(lambda t: tfd.Weibull(concentration=t, scale=1.0))\n",
        "\n",
        "y = dense1(x)\n",
        "y = lambda1(y)\n",
        "y = weibull1(y)\n",
        "print('weibull:', tf.convert_to_tensor(y))"
      ],
      "metadata": {
        "colab": {
          "base_uri": "https://localhost:8080/"
        },
        "id": "djFNakXcjmG9",
        "outputId": "066412c4-fd0f-4507-c4d3-9ef510ad4f9a"
      },
      "execution_count": 23,
      "outputs": [
        {
          "output_type": "stream",
          "name": "stdout",
          "text": [
            "weibull: tf.Tensor([[0.6004501]], shape=(1, 1), dtype=float32)\n"
          ]
        }
      ]
    },
    {
      "cell_type": "code",
      "source": [
        "# gradient with transform of tf softplus\n",
        "x = np.array([[1., 1.]])\n",
        "dense1 = tf.keras.layers.Dense(1, activation=tf.nn.relu)\n",
        "lambda1 = tf.keras.layers.Lambda(lambda t: tf.math.softplus(t))\n",
        "weibull1 = tfp.layers.DistributionLambda(lambda t: tfd.Weibull(concentration=t, scale=1.0))\n",
        "\n",
        "with tf.GradientTape() as tape:\n",
        "  y = dense1(x)\n",
        "  print('dense:', y)\n",
        "  y = lambda1(y)\n",
        "  print('lambda:', y)\n",
        "  y = weibull1(y)\n",
        "  print('weibull:', y)\n",
        "  y = y ** 1\n",
        "  print(y)\n",
        "  y = y ** 2\n",
        "  print(y)\n",
        "\n",
        "tape.gradient(y, dense1.trainable_variables)"
      ],
      "metadata": {
        "colab": {
          "base_uri": "https://localhost:8080/"
        },
        "id": "e8xxdF4riyCO",
        "outputId": "c1ff3633-3ee7-49e2-9cee-c3bc70a5af8b"
      },
      "execution_count": 25,
      "outputs": [
        {
          "output_type": "stream",
          "name": "stdout",
          "text": [
            "dense: tf.Tensor([[1.2972121]], shape=(1, 1), dtype=float32)\n",
            "lambda: tf.Tensor([[1.5388184]], shape=(1, 1), dtype=float32)\n",
            "weibull: tfp.distributions._TensorCoercible(\"tensor_coercible\", batch_shape=[1, 1], event_shape=[], dtype=float32)\n",
            "tf.Tensor([[1.950014]], shape=(1, 1), dtype=float32)\n",
            "tf.Tensor([[3.8025546]], shape=(1, 1), dtype=float32)\n"
          ]
        },
        {
          "output_type": "execute_result",
          "data": {
            "text/plain": [
              "[<tf.Tensor: shape=(2, 1), dtype=float32, numpy=\n",
              " array([[-2.5921493],\n",
              "        [-2.5921493]], dtype=float32)>,\n",
              " <tf.Tensor: shape=(1,), dtype=float32, numpy=array([-2.5921493], dtype=float32)>]"
            ]
          },
          "metadata": {},
          "execution_count": 25
        }
      ]
    }
  ]
}