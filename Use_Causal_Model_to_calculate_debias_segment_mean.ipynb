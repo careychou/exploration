{
  "nbformat": 4,
  "nbformat_minor": 0,
  "metadata": {
    "colab": {
      "name": "Use Causal Model to calculate debias segment mean.ipynb",
      "provenance": [],
      "collapsed_sections": [],
      "authorship_tag": "ABX9TyNr7Jlv7PEm/XoWYlh3bLGe",
      "include_colab_link": true
    },
    "kernelspec": {
      "name": "python3",
      "display_name": "Python 3"
    },
    "language_info": {
      "name": "python"
    }
  },
  "cells": [
    {
      "cell_type": "markdown",
      "metadata": {
        "id": "view-in-github",
        "colab_type": "text"
      },
      "source": [
        "<a href=\"https://colab.research.google.com/github/careychou/exploration/blob/master/Use_Causal_Model_to_calculate_debias_segment_mean.ipynb\" target=\"_parent\"><img src=\"https://colab.research.google.com/assets/colab-badge.svg\" alt=\"Open In Colab\"/></a>"
      ]
    },
    {
      "cell_type": "code",
      "execution_count": null,
      "metadata": {
        "id": "JbygAM5FhWCL"
      },
      "outputs": [],
      "source": [
        "!pip install econml"
      ]
    },
    {
      "cell_type": "code",
      "source": [
        "import econml\n",
        "from econml.orf import DMLOrthoForest, DROrthoForest\n",
        "from econml.dml import CausalForestDML\n",
        "from econml.sklearn_extensions.linear_model import WeightedLassoCVWrapper, WeightedLasso, WeightedLassoCV\n",
        "\n",
        "# Helper imports\n",
        "import numpy as np\n",
        "from itertools import product\n",
        "from sklearn.linear_model import Lasso, LassoCV, LogisticRegression, LogisticRegressionCV\n",
        "import matplotlib.pyplot as plt\n",
        "\n",
        "%matplotlib inline"
      ],
      "metadata": {
        "colab": {
          "base_uri": "https://localhost:8080/"
        },
        "id": "9-rdfYlwhbvM",
        "outputId": "9b5de717-9819-4a7d-dda6-69eac0d11f47"
      },
      "execution_count": 2,
      "outputs": [
        {
          "output_type": "stream",
          "name": "stderr",
          "text": [
            "/usr/local/lib/python3.7/dist-packages/statsmodels/tools/_testing.py:19: FutureWarning: pandas.util.testing is deprecated. Use the functions in the public API at pandas.testing instead.\n",
            "  import pandas.util.testing as tm\n"
          ]
        }
      ]
    },
    {
      "cell_type": "code",
      "source": [
        "# Treatment effect function\n",
        "def exp_te(x):\n",
        "    return np.exp(2*np.max(x))\n",
        "\n",
        "# DGP constants\n",
        "np.random.seed(123)\n",
        "n = 1000\n",
        "n_w = 30\n",
        "support_size = 5\n",
        "n_x = 1\n",
        "# Outcome support\n",
        "support_Y = np.random.choice(range(n_w), size=support_size, replace=False)\n",
        "coefs_Y = np.random.uniform(0, 1, size=support_size)\n",
        "epsilon_sample = lambda n: np.random.uniform(-1, 1, size=n)\n",
        "# Treatment support \n",
        "support_T = support_Y\n",
        "coefs_T = np.random.uniform(0, 1, size=support_size)\n",
        "eta_sample = lambda n: np.random.uniform(-1, 1, size=n) \n",
        "\n",
        "# Generate controls, covariates, treatments and outcomes\n",
        "# W ~ confounders\n",
        "W = np.random.normal(0, 1, size=(n, n_w))\n",
        "# binary segment (0, 1) - to estimate final CATE\n",
        "X = np.random.randint(1, 3, size=(n, n_x))\n",
        "# Heterogeneous treatment effects\n",
        "TE = np.array([exp_te(x_i) for x_i in X])\n",
        "T = np.concatenate([np.ones(500), np.zeros(500)])\n",
        "Y = TE * T + np.dot(W[:, support_Y], coefs_Y) + epsilon_sample(n)\n",
        "\n",
        "# ORF parameters and test data\n",
        "subsample_ratio = 0.3\n",
        "lambda_reg = np.sqrt(np.log(n_w) / (10 * subsample_ratio * n))\n",
        "X_test = np.array(list(product(np.arange(0, 1, 0.01), repeat=n_x)))"
      ],
      "metadata": {
        "id": "reGKA_NDhhzH"
      },
      "execution_count": 130,
      "outputs": []
    },
    {
      "cell_type": "code",
      "source": [
        "print('test mean: ', Y[0:500].mean(), 'control mean: ', Y[500:1000].mean())\n",
        "print('seg2 test mean: ', Y[np.squeeze(X == 2) & (T == 1)].mean())\n",
        "print('seg2 control mean: ', Y[np.squeeze(X == 2) & (T == 0)].mean())\n",
        "print('seg1 test mean: ', Y[np.squeeze(X == 1) & (T == 1)].mean())\n",
        "print('seg1 control mean: ', Y[np.squeeze(X == 1) & (T == 0)].mean())"
      ],
      "metadata": {
        "colab": {
          "base_uri": "https://localhost:8080/"
        },
        "id": "UnV0XWb2hoOx",
        "outputId": "93db5730-0d70-4be9-c23b-db318897ce23"
      },
      "execution_count": 131,
      "outputs": [
        {
          "output_type": "stream",
          "name": "stdout",
          "text": [
            "test mean:  31.423632545027758 control mean:  0.02517086269843063\n",
            "seg2 test mean:  54.637915187817285\n",
            "seg2 control mean:  0.03991672512022674\n",
            "seg1 test mean:  7.261828161716206\n",
            "seg1 control mean:  0.012405787766129552\n"
          ]
        }
      ]
    },
    {
      "cell_type": "code",
      "source": [
        "est = CausalForestDML(model_t=Lasso(alpha=lambda_reg),\n",
        "                       model_y=Lasso(alpha=lambda_reg),\n",
        "                       n_estimators=4000, min_samples_leaf=5,\n",
        "                       max_depth=50,\n",
        "                       verbose=0, random_state=123)"
      ],
      "metadata": {
        "id": "VAcGWvsAlxpa"
      },
      "execution_count": 142,
      "outputs": []
    },
    {
      "cell_type": "code",
      "source": [
        "est.fit(Y, T, X=X, W=W)\n",
        "\n",
        "# treatment effect for segment 1 and 2\n",
        "print('segment1 CATE: ', est.effect(X=[[1]]))\n",
        "print('segment2 CATE: ', est.effect(X=[[2]]))"
      ],
      "metadata": {
        "colab": {
          "base_uri": "https://localhost:8080/"
        },
        "id": "kS1-A6s6l9Io",
        "outputId": "b1c4de80-9518-4913-83f6-7e02630b94a2"
      },
      "execution_count": 133,
      "outputs": [
        {
          "output_type": "stream",
          "name": "stdout",
          "text": [
            "segment1 CATE:  [7.81237808]\n",
            "segment2 CATE:  [54.16055064]\n"
          ]
        }
      ]
    },
    {
      "cell_type": "code",
      "source": [
        "# hack control\n",
        "Y_proxy = Y.copy()\n",
        "Y[500:1000] = 0\n",
        "\n",
        "print('test mean: ', Y[0:500].mean(), 'control mean: ', Y[500:1000].mean())\n",
        "print('seg2 test mean: ', Y[np.squeeze(X == 2) & (T == 1)].mean())\n",
        "print('seg2 control mean: ', Y[np.squeeze(X == 2) & (T == 0)].mean())\n",
        "print('seg1 test mean: ', Y[np.squeeze(X == 1) & (T == 1)].mean())\n",
        "print('seg1 control mean: ', Y[np.squeeze(X == 1) & (T == 0)].mean())"
      ],
      "metadata": {
        "colab": {
          "base_uri": "https://localhost:8080/"
        },
        "id": "oGnu-mI5ogKO",
        "outputId": "3a15bc17-2081-4103-c4a7-91d1a51b2402"
      },
      "execution_count": 134,
      "outputs": [
        {
          "output_type": "stream",
          "name": "stdout",
          "text": [
            "test mean:  31.423632545027758 control mean:  0.0\n",
            "seg2 test mean:  54.637915187817285\n",
            "seg2 control mean:  0.0\n",
            "seg1 test mean:  7.261828161716206\n",
            "seg1 control mean:  0.0\n"
          ]
        }
      ]
    },
    {
      "cell_type": "code",
      "source": [
        "est.fit(Y, T, X=X, W=W)\n",
        "\n",
        "# treatment effect for segment 0 and 1\n",
        "treatment_seg1_test_mean = est.effect(X=[[1]])\n",
        "treatment_seg2_test_mean = est.effect(X=[[2]])\n",
        "\n",
        "print('segment1 debias test mean: ', treatment_seg1_test_mean)\n",
        "print('segment2 debias test mean: ', treatment_seg2_test_mean)"
      ],
      "metadata": {
        "colab": {
          "base_uri": "https://localhost:8080/"
        },
        "id": "Q4fersilpCGZ",
        "outputId": "8c6ad1dc-32f8-4baa-f3df-e9c7d1bdbeff"
      },
      "execution_count": 135,
      "outputs": [
        {
          "output_type": "stream",
          "name": "stdout",
          "text": [
            "segment1 debias test mean:  [7.75939504]\n",
            "segment2 debias test mean:  [54.2083246]\n"
          ]
        }
      ]
    },
    {
      "cell_type": "code",
      "source": [
        "# hack test\n",
        "Y = Y_proxy.copy()\n",
        "Y[0:500] = 0\n",
        "\n",
        "print('test mean: ', Y[0:500].mean(), 'control mean: ', Y[500:1000].mean())\n",
        "print('seg2 test mean: ', Y[np.squeeze(X == 2) & (T == 1)].mean())\n",
        "print('seg2 control mean: ', Y[np.squeeze(X == 2) & (T == 0)].mean())\n",
        "print('seg1 test mean: ', Y[np.squeeze(X == 1) & (T == 1)].mean())\n",
        "print('seg1 control mean: ', Y[np.squeeze(X == 1) & (T == 0)].mean())"
      ],
      "metadata": {
        "colab": {
          "base_uri": "https://localhost:8080/"
        },
        "id": "syMYwd1KpQ9x",
        "outputId": "5996a8f9-7632-4ff3-b96f-4c53080f09c2"
      },
      "execution_count": 136,
      "outputs": [
        {
          "output_type": "stream",
          "name": "stdout",
          "text": [
            "test mean:  0.0 control mean:  0.02517086269843063\n",
            "seg2 test mean:  0.0\n",
            "seg2 control mean:  0.03991672512022674\n",
            "seg1 test mean:  0.0\n",
            "seg1 control mean:  0.012405787766129552\n"
          ]
        }
      ]
    },
    {
      "cell_type": "code",
      "source": [
        "est.fit(Y, T, X=X, W=W)\n",
        "\n",
        "# treatment effect for segment 1, 2\n",
        "# we reverse the sign since TE is treatment - control\n",
        "treatment_seg1_ctl_mean = est.effect(X=[[1]]) * -1\n",
        "treatment_seg2_ctl_mean = est.effect(X=[[2]]) * -1\n",
        "\n",
        "print('segment1 debias control mean: ', treatment_seg1_ctl_mean)\n",
        "print('segment2 debias control mean: ', treatment_seg2_ctl_mean)"
      ],
      "metadata": {
        "colab": {
          "base_uri": "https://localhost:8080/"
        },
        "id": "4wnAu5yhpdY2",
        "outputId": "512ef5cb-0702-4ce0-b38d-23dc9f42d285"
      },
      "execution_count": 138,
      "outputs": [
        {
          "output_type": "stream",
          "name": "stdout",
          "text": [
            "segment1 debias control mean:  [-0.04945803]\n",
            "segment2 debias control mean:  [0.03223431]\n"
          ]
        }
      ]
    },
    {
      "cell_type": "code",
      "source": [
        "# we can approximate the CATE from the two\n",
        "# the approximation here should be close to the CATE calculated above\n",
        "print('segment1 CATE: ', treatment_seg1_test_mean - treatment_seg1_ctl_mean)\n",
        "print('segment2 CATE: ', treatment_seg2_test_mean - treatment_seg2_ctl_mean)"
      ],
      "metadata": {
        "colab": {
          "base_uri": "https://localhost:8080/"
        },
        "id": "Oj88sWV0sICA",
        "outputId": "655af2aa-1536-4095-a8e5-d9a2078d65fc"
      },
      "execution_count": 141,
      "outputs": [
        {
          "output_type": "stream",
          "name": "stdout",
          "text": [
            "segment1 CATE:  [7.80885307]\n",
            "segment2 CATE:  [54.17609029]\n"
          ]
        }
      ]
    }
  ]
}