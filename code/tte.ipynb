{
 "cells": [
  {
   "cell_type": "code",
   "execution_count": 1,
   "metadata": {},
   "outputs": [],
   "source": [
    "import tensorflow as tf\n",
    "import tensorflow.contrib.distributions as tfd\n",
    "\n",
    "import edward as ed\n",
    "from edward.models import Normal\n",
    "from edward.models import MultivariateNormalFullCovariance\n",
    "from edward.models import MultivariateNormalTriL\n",
    "\n",
    "%matplotlib inline\n",
    "from __future__ import absolute_import\n",
    "from __future__ import division\n",
    "from __future__ import print_function\n",
    "\n",
    "import csv\n",
    "import IPython\n",
    "import matplotlib.pyplot as plt\n",
    "import numpy as np\n",
    "import pandas as pd\n",
    "import requests\n",
    "from IPython.display import display\n",
    "\n",
    "plt.style.use('ggplot')"
   ]
  },
  {
   "cell_type": "markdown",
   "metadata": {},
   "source": [
    "<h2> TTE with weibull </h2>\n",
    "https://github.com/ragulpr/wtte-rnn/blob/master/python/wtte/wtte.py"
   ]
  },
  {
   "cell_type": "code",
   "execution_count": 6,
   "metadata": {},
   "outputs": [],
   "source": [
    "def generate_weibull(A, B, C, shape, discrete_time):    \n",
    "    W = np.sort(A * np.power(-np.log(np.random.uniform(0, 1, shape)), 1 / B))\n",
    "\n",
    "    if discrete_time:\n",
    "        C = np.floor(C)\n",
    "        W = np.floor(W)\n",
    "\n",
    "    U = np.less_equal(W, C) * 1.\n",
    "    Y = np.minimum(W, C)\n",
    "    return W, Y, U"
   ]
  },
  {
   "cell_type": "code",
   "execution_count": 5,
   "metadata": {},
   "outputs": [],
   "source": [
    "def loglik_continuous(a, b, y_, u_, output_collection=()):\n",
    "\n",
    "    ya = tf.div(y_ + 1e-35, a)  # Small optimization y/a\n",
    "\n",
    "    loglik = tf.multiply(u_, tf.log(b) + tf.multiply(b, tf.log(ya))) - tf.pow(ya, b)\n",
    "    tf.add_to_collection(output_collection, loglik)\n",
    "\n",
    "    return(loglik)"
   ]
  },
  {
   "cell_type": "markdown",
   "metadata": {},
   "source": [
    "<h2> univariate weibull </h2>"
   ]
  },
  {
   "cell_type": "code",
   "execution_count": 45,
   "metadata": {},
   "outputs": [
    {
     "data": {
      "text/plain": [
       "'loss=1.868247 shape=[1.] scale=[1.]'"
      ]
     },
     "metadata": {},
     "output_type": "display_data"
    },
    {
     "data": {
      "text/plain": [
       "'loss=1.2848009 shape=[2.1616657] scale=[1.2802417]'"
      ]
     },
     "metadata": {},
     "output_type": "display_data"
    },
    {
     "data": {
      "text/plain": [
       "'loss=1.251549 shape=[2.4560914] scale=[1.385494]'"
      ]
     },
     "metadata": {},
     "output_type": "display_data"
    },
    {
     "data": {
      "text/plain": [
       "'loss=1.2456656 shape=[2.5815816] scale=[1.4115845]'"
      ]
     },
     "metadata": {},
     "output_type": "display_data"
    },
    {
     "data": {
      "text/plain": [
       "'loss=1.2443429 shape=[2.641484] scale=[1.4193795]'"
      ]
     },
     "metadata": {},
     "output_type": "display_data"
    },
    {
     "data": {
      "text/plain": [
       "'loss=1.2440084 shape=[2.6717012] scale=[1.4221767]'"
      ]
     },
     "metadata": {},
     "output_type": "display_data"
    },
    {
     "data": {
      "text/plain": [
       "'loss=1.2439185 shape=[2.6873784] scale=[1.4233367]'"
      ]
     },
     "metadata": {},
     "output_type": "display_data"
    },
    {
     "data": {
      "text/plain": [
       "'loss=1.2438937 shape=[2.6956317] scale=[1.4238693]'"
      ]
     },
     "metadata": {},
     "output_type": "display_data"
    },
    {
     "data": {
      "text/plain": [
       "'loss=1.2438867 shape=[2.700011] scale=[1.4241301]'"
      ]
     },
     "metadata": {},
     "output_type": "display_data"
    },
    {
     "data": {
      "text/plain": [
       "'loss=1.2438847 shape=[2.702344] scale=[1.424263]'"
      ]
     },
     "metadata": {},
     "output_type": "display_data"
    }
   ],
   "source": [
    "# simple univariate weibull distribution fit\n",
    "\n",
    "y, y_censored, censor = generate_weibull(A=3, B=2, C=4, shape=(10, 1), discrete_time=False)\n",
    "\n",
    "tf.reset_default_graph()\n",
    "\n",
    "y_ = tf.placeholder(tf.float32, shape=(None, 1))\n",
    "u_ = tf.placeholder(tf.float32, shape=(None, 1))\n",
    "\n",
    "a=tf.Variable(tf.ones([1]))\n",
    "b=tf.Variable(tf.ones([1]))\n",
    "\n",
    "\n",
    "loglik = loglik_continuous(a, b, y_, u_)\n",
    "loss = -tf.reduce_mean(loglik)\n",
    "\n",
    "eta = tf.constant(0.1)\n",
    "optimizer = tf.train.AdagradOptimizer(eta).minimize(loss)\n",
    "\n",
    "sess = tf.Session()\n",
    "sess.run(tf.global_variables_initializer())\n",
    "\n",
    "for i in range(1000):\n",
    "    loss_val, _, shape, scale = sess.run([loss, optimizer, a, b], feed_dict={y_:y_censored, u_:censor})\n",
    "    if(i % 100 == 0):\n",
    "        display('loss=' + str(loss_val) + ' shape=' + str(shape) + ' scale=' + str(scale))"
   ]
  },
  {
   "cell_type": "markdown",
   "metadata": {},
   "source": [
    "<h2> mixture univariate weibull </h2>"
   ]
  },
  {
   "cell_type": "code",
   "execution_count": 141,
   "metadata": {},
   "outputs": [
    {
     "data": {
      "text/plain": [
       "'loss=[0.46189833 2.198883  ] shape=[7.874148  7.7893615] scale=[2.3309457 7.7516365]'"
      ]
     },
     "metadata": {},
     "output_type": "display_data"
    },
    {
     "data": {
      "text/plain": [
       "'loss=[0.6283792  0.13120344] shape=[5.137437 6.096473] scale=[1.3242302 5.837031 ]'"
      ]
     },
     "metadata": {},
     "output_type": "display_data"
    },
    {
     "data": {
      "text/plain": [
       "'loss=[0.41077024 0.07065453] shape=[2.7941558 6.6805396] scale=[1.9916395 5.9262414]'"
      ]
     },
     "metadata": {},
     "output_type": "display_data"
    },
    {
     "data": {
      "text/plain": [
       "'loss=[0.36378193 0.04609757] shape=[2.5639148 7.1026163] scale=[2.125896 6.066879]'"
      ]
     },
     "metadata": {},
     "output_type": "display_data"
    },
    {
     "data": {
      "text/plain": [
       "'loss=[0.35193306 0.03378621] shape=[2.5290146 7.3975244] scale=[2.1638484 6.1892834]'"
      ]
     },
     "metadata": {},
     "output_type": "display_data"
    },
    {
     "data": {
      "text/plain": [
       "'loss=[0.34685066 0.0265145 ] shape=[2.5150015 7.620666 ] scale=[2.1807325 6.293733 ]'"
      ]
     },
     "metadata": {},
     "output_type": "display_data"
    },
    {
     "data": {
      "text/plain": [
       "'loss=[0.34407702 0.02174372] shape=[2.507509  7.7989945] scale=[2.1900587 6.3841014]'"
      ]
     },
     "metadata": {},
     "output_type": "display_data"
    },
    {
     "data": {
      "text/plain": [
       "'loss=[0.34234244 0.0183852 ] shape=[2.5028582 7.946899 ] scale=[2.1959167 6.463494 ]'"
      ]
     },
     "metadata": {},
     "output_type": "display_data"
    },
    {
     "data": {
      "text/plain": [
       "'loss=[0.34115902 0.01589872] shape=[2.499695 8.072882] scale=[2.1999183 6.534179 ]'"
      ]
     },
     "metadata": {},
     "output_type": "display_data"
    },
    {
     "data": {
      "text/plain": [
       "'loss=[0.34030145 0.01398702] shape=[2.4974024 8.182362 ] scale=[2.2028165 6.5978227]'"
      ]
     },
     "metadata": {},
     "output_type": "display_data"
    },
    {
     "data": {
      "text/plain": [
       "array([[0.9982151 , 0.00178495],\n",
       "       [0.99702185, 0.00297809],\n",
       "       [0.00329662, 0.9967033 ],\n",
       "       [0.99765164, 0.00234842],\n",
       "       [0.99761295, 0.00238705],\n",
       "       [0.99652356, 0.00347639],\n",
       "       [0.00344064, 0.9965593 ],\n",
       "       [0.99725753, 0.00274252],\n",
       "       [0.998018  , 0.001982  ],\n",
       "       [0.9972994 , 0.00270064],\n",
       "       [0.00327043, 0.9967296 ],\n",
       "       [0.00288563, 0.9971144 ],\n",
       "       [0.00300068, 0.9969994 ],\n",
       "       [0.00399829, 0.99600166],\n",
       "       [0.00297207, 0.99702793],\n",
       "       [0.00343036, 0.99656963],\n",
       "       [0.00294305, 0.99705696],\n",
       "       [0.00279209, 0.99720794],\n",
       "       [0.0034337 , 0.9965663 ],\n",
       "       [0.00324534, 0.9967546 ]], dtype=float32)"
      ]
     },
     "metadata": {},
     "output_type": "display_data"
    }
   ],
   "source": [
    "\n",
    "tf.reset_default_graph()\n",
    "y1, y_censored1, censor1 = generate_weibull(A=3, B=2, C=4, shape=(10, 1), discrete_time=False)\n",
    "y2, y_censored2, censor2 = generate_weibull(A=10, B=5, C=4, shape=(10, 1), discrete_time=False)\n",
    "y_censored = np.expand_dims(np.append(y_censored1, y_censored2), 1)\n",
    "censor = np.expand_dims(np.append(censor1, censor2), 1)\n",
    "\n",
    "y_ = tf.placeholder(tf.float32, shape=(None, 1))\n",
    "u_ = tf.placeholder(tf.float32, shape=(None, 1))\n",
    "\n",
    "a=tf.Variable(tf.random_uniform(shape=(2,), maxval=10))\n",
    "b=tf.Variable(tf.random_uniform(shape=(2,), maxval=10))\n",
    "pi = tf.Variable(tf.truncated_normal([20, 2])) # data point probability to group\n",
    "pi = tf.nn.softmax(pi)\n",
    "\n",
    "loglik = loglik_continuous(a, b, y_, u_)\n",
    "loss = -tf.reduce_mean(tf.multiply(pi, loglik), 0) # mixture probability\n",
    "\n",
    "eta = tf.constant(0.1)\n",
    "optimizer = tf.train.AdagradOptimizer(eta).minimize(loss)\n",
    "\n",
    "sess = tf.Session()\n",
    "sess.run(tf.global_variables_initializer())\n",
    "\n",
    "\n",
    "for i in range(5000):\n",
    "    loss_val, _, shape, scale, prob = sess.run([loss, optimizer, a, b, pi], feed_dict={y_:y_censored, u_:censor})\n",
    "    if(i % 500 == 0):\n",
    "        display('loss=' + str(loss_val) + ' shape=' + str(shape) + ' scale=' + str(scale))\n",
    "        \n",
    "display(prob)        "
   ]
  }
 ],
 "metadata": {
  "kernelspec": {
   "display_name": "Python 2",
   "language": "python",
   "name": "python2"
  },
  "language_info": {
   "codemirror_mode": {
    "name": "ipython",
    "version": 2
   },
   "file_extension": ".py",
   "mimetype": "text/x-python",
   "name": "python",
   "nbconvert_exporter": "python",
   "pygments_lexer": "ipython2",
   "version": "2.7.12"
  }
 },
 "nbformat": 4,
 "nbformat_minor": 2
}
