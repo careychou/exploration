{
  "cells": [
    {
      "cell_type": "markdown",
      "metadata": {
        "id": "view-in-github",
        "colab_type": "text"
      },
      "source": [
        "<a href=\"https://colab.research.google.com/github/careychou/exploration/blob/master/tfp_multi_level_bayesian_examples.ipynb\" target=\"_parent\"><img src=\"https://colab.research.google.com/assets/colab-badge.svg\" alt=\"Open In Colab\"/></a>"
      ]
    },
    {
      "cell_type": "code",
      "execution_count": null,
      "metadata": {
        "id": "XMTEI6ep4D_S"
      },
      "outputs": [],
      "source": [
        "import matplotlib.pyplot as plt\n",
        "import numpy as np\n",
        "import seaborn as sns\n",
        "\n",
        "import tensorflow.compat.v2 as tf\n",
        "import tensorflow_probability as tfp\n",
        "from tensorflow_probability import distributions as tfd\n",
        "import warnings\n",
        "\n",
        "tf.enable_v2_behavior()\n",
        "\n",
        "plt.style.use(\"ggplot\")\n",
        "warnings.filterwarnings('ignore')\n",
        "\n",
        "tfb = tfp.bijectors"
      ]
    },
    {
      "cell_type": "code",
      "source": [
        "def mcmc_run_simple(initial_states, target_log_prob):\n",
        "  return tfp.mcmc.sample_chain( \n",
        "                      num_results=100,\n",
        "                      num_burnin_steps=10,\n",
        "                      current_state=init_state_prior,\n",
        "                      kernel=tfp.mcmc.HamiltonianMonteCarlo(\n",
        "                          target_log_prob_fn=target_log_prob,\n",
        "                          step_size=0.4,\n",
        "                          num_leapfrog_steps=3))\n",
        "\n",
        " \n",
        "def mcmc_run_dual(initial_states, target_log_prob, bijectors):\n",
        "  return tfp.mcmc.sample_chain(\n",
        "            num_results=200,\n",
        "            current_state=initial_states,\n",
        "            num_burnin_steps=50,\n",
        "            kernel=tfp.mcmc.DualAveragingStepSizeAdaptation(\n",
        "                inner_kernel=tfp.mcmc.TransformedTransitionKernel(\n",
        "                    inner_kernel=tfp.mcmc.HamiltonianMonteCarlo(\n",
        "                        target_log_prob_fn=target_log_prob,\n",
        "                        step_size=1,\n",
        "                        num_leapfrog_steps=5,\n",
        "                        state_gradients_are_stopped=True),\n",
        "                        bijector=bijectors),               \n",
        "                    num_adaptation_steps=40))\n"
      ],
      "metadata": {
        "id": "YF8KVw3Kyc8k"
      },
      "execution_count": null,
      "outputs": []
    },
    {
      "cell_type": "markdown",
      "source": [
        "## Generate sample data - E(D | P) ~ Normal"
      ],
      "metadata": {
        "id": "HiHg1hTUdx_q"
      }
    },
    {
      "cell_type": "code",
      "source": [
        "# seg1\n",
        "def gen_normal(hypermu, hypertau, sample_size):\n",
        "  return tfd.Normal(\n",
        "    loc=tfd.Normal(10., 1.).sample(1) + \n",
        "      tfd.Normal(\n",
        "          loc=tfd.Normal(hypermu[0], hypermu[1]).sample(1),\n",
        "          scale=tfd.Normal(hypertau[0], hypertau[1]).sample(1)\n",
        "      ).sample(1), \n",
        "    scale=tfd.Normal(5., 1.).sample(1)).sample(sample_size)\n",
        "\n",
        "\n",
        "sample_data = [*gen_normal((20., 5.), (5., 1.), 10).numpy().squeeze(),  # segment 1\n",
        "                *gen_normal((-5., 5.), (5., 1.), 10).numpy().squeeze(), # segment 2\n",
        "                *gen_normal((-10., 5.), (5., 1.), 10).numpy().squeeze() # segment 3\n",
        "                ]\n",
        "\n",
        "num_segments = 3\n",
        "sample_segment = [*np.repeat(0, 10), *np.repeat(1, 10), *np.repeat(2, 10)]\n",
        "\n",
        "(np.mean(sample_data[:10]), np.mean(sample_data[10:20]), np.mean(sample_data[20:30]))\n"
      ],
      "metadata": {
        "colab": {
          "base_uri": "https://localhost:8080/"
        },
        "id": "kGjJtXgbdulu",
        "outputId": "8a91258d-d1d0-4975-9344-78ea30f4fa57"
      },
      "execution_count": null,
      "outputs": [
        {
          "output_type": "execute_result",
          "data": {
            "text/plain": [
              "(28.560055, 9.511309, 3.5284638)"
            ]
          },
          "metadata": {},
          "execution_count": 111
        }
      ]
    },
    {
      "cell_type": "markdown",
      "source": [
        "## Centered Multi Level with Pooled Mean: Normal Likelihood"
      ],
      "metadata": {
        "id": "rQx0OV4kBCa6"
      }
    },
    {
      "cell_type": "code",
      "source": [
        "# centered multi-level\n",
        "model = tfd.JointDistributionSequential([\n",
        "  tfd.Normal(loc=0., scale=10.),  # mu hyper prior\n",
        "  tfd.Normal(loc=5., scale=1.),  # tau hyper prior\n",
        "\n",
        "  # segment as random effects ~ N(0, tau)\n",
        "  lambda tau, mu: tfd.Independent(\n",
        "      tfd.Normal(\n",
        "          loc=tf.ones(num_segments) * mu, \n",
        "          scale=tau), \n",
        "        reinterpreted_batch_ndims=1),\n",
        "\n",
        "  tfd.Normal(loc=5., scale=1.),  # pooled sc     \n",
        "  tfd.Normal(loc=10., scale=1.),  # pooled mean\n",
        "\n",
        "  lambda mean, sc, seg_eff, _: tfd.Independent(\n",
        "      tfd.Normal(\n",
        "          loc=mean + tf.gather(seg_eff, sample_segment), \n",
        "          scale=sc), \n",
        "        reinterpreted_batch_ndims=1)\n",
        "])\n"
      ],
      "metadata": {
        "id": "OF5mriPePvaf"
      },
      "execution_count": null,
      "outputs": []
    },
    {
      "cell_type": "code",
      "source": [
        "samples = model.sample(1)\n",
        "print(samples)\n",
        "#sample_data = samples[-1]\n",
        "sample_priors = samples[:-1]\n",
        "model.log_prob_parts(samples)"
      ],
      "metadata": {
        "colab": {
          "base_uri": "https://localhost:8080/"
        },
        "id": "3lcdy6ZOZxO3",
        "outputId": "af247859-dd78-4312-9ae4-f997a3500ef7"
      },
      "execution_count": null,
      "outputs": [
        {
          "output_type": "stream",
          "name": "stdout",
          "text": [
            "[<tf.Tensor: shape=(1,), dtype=float32, numpy=array([19.442276], dtype=float32)>, <tf.Tensor: shape=(1,), dtype=float32, numpy=array([5.416532], dtype=float32)>, <tf.Tensor: shape=(3,), dtype=float32, numpy=array([1.0225685, 5.169071 , 1.648947 ], dtype=float32)>, <tf.Tensor: shape=(1,), dtype=float32, numpy=array([4.7356777], dtype=float32)>, <tf.Tensor: shape=(1,), dtype=float32, numpy=array([9.146925], dtype=float32)>, <tf.Tensor: shape=(6,), dtype=float32, numpy=\n",
            "array([4.6708636, 3.8781185, 2.1434076, 6.813615 , 2.912087 , 4.423038 ],\n",
            "      dtype=float32)>]\n"
          ]
        },
        {
          "output_type": "execute_result",
          "data": {
            "text/plain": [
              "[<tf.Tensor: shape=(1,), dtype=float32, numpy=array([-1.0744666], dtype=float32)>,\n",
              " <tf.Tensor: shape=(1,), dtype=float32, numpy=array([-1.005688], dtype=float32)>,\n",
              " <tf.Tensor: shape=(), dtype=float32, numpy=-7.505594>,\n",
              " <tf.Tensor: shape=(1,), dtype=float32, numpy=array([-0.95387167], dtype=float32)>,\n",
              " <tf.Tensor: shape=(1,), dtype=float32, numpy=array([-1.282807], dtype=float32)>,\n",
              " <tf.Tensor: shape=(), dtype=float32, numpy=-14.939651>]"
            ]
          },
          "metadata": {},
          "execution_count": 5
        }
      ]
    },
    {
      "cell_type": "code",
      "source": [
        "sample_priors = model.sample(1)[:-1]\n",
        "model.log_prob_parts([*sample_priors, sample_data])"
      ],
      "metadata": {
        "colab": {
          "base_uri": "https://localhost:8080/"
        },
        "id": "3SnuxFUdiehU",
        "outputId": "c27c7cda-193c-4dde-c144-d9bcc051fa53"
      },
      "execution_count": null,
      "outputs": [
        {
          "output_type": "execute_result",
          "data": {
            "text/plain": [
              "[<tf.Tensor: shape=(1,), dtype=float32, numpy=array([-0.97465146], dtype=float32)>,\n",
              " <tf.Tensor: shape=(1,), dtype=float32, numpy=array([-0.9391118], dtype=float32)>,\n",
              " <tf.Tensor: shape=(), dtype=float32, numpy=-8.071594>,\n",
              " <tf.Tensor: shape=(1,), dtype=float32, numpy=array([-0.9728293], dtype=float32)>,\n",
              " <tf.Tensor: shape=(1,), dtype=float32, numpy=array([-1.0571938], dtype=float32)>,\n",
              " <tf.Tensor: shape=(), dtype=float32, numpy=-15.238572>]"
            ]
          },
          "metadata": {},
          "execution_count": 6
        }
      ]
    },
    {
      "cell_type": "code",
      "source": [
        "def target_log_prob_fn(*params):\n",
        "  return model.log_prob(params + (sample_data, ))\n",
        "\n",
        "target_log_prob_fn(*sample_priors)"
      ],
      "metadata": {
        "colab": {
          "base_uri": "https://localhost:8080/"
        },
        "id": "0ky1rrLxYhF9",
        "outputId": "04b341fe-cbd8-4156-a4b9-62c4a2e62cb7"
      },
      "execution_count": null,
      "outputs": [
        {
          "output_type": "execute_result",
          "data": {
            "text/plain": [
              "<tf.Tensor: shape=(1,), dtype=float32, numpy=array([-27.253952], dtype=float32)>"
            ]
          },
          "metadata": {},
          "execution_count": 7
        }
      ]
    },
    {
      "cell_type": "code",
      "source": [
        "init_state_prior = model.sample(1)[:-1]\n",
        "init_state_prior = [tf.squeeze(x) for x in init_state_prior]\n",
        "init_state_prior"
      ],
      "metadata": {
        "colab": {
          "base_uri": "https://localhost:8080/"
        },
        "id": "mVFK-dK5fVMZ",
        "outputId": "f2ed3176-a7ea-4ea0-ea67-559311b9ad35"
      },
      "execution_count": null,
      "outputs": [
        {
          "output_type": "execute_result",
          "data": {
            "text/plain": [
              "[<tf.Tensor: shape=(), dtype=float32, numpy=8.298271>,\n",
              " <tf.Tensor: shape=(), dtype=float32, numpy=4.519633>,\n",
              " <tf.Tensor: shape=(3,), dtype=float32, numpy=array([4.903119 , 3.0838227, 6.646962 ], dtype=float32)>,\n",
              " <tf.Tensor: shape=(), dtype=float32, numpy=4.669758>,\n",
              " <tf.Tensor: shape=(), dtype=float32, numpy=8.922955>]"
            ]
          },
          "metadata": {},
          "execution_count": 141
        }
      ]
    },
    {
      "cell_type": "code",
      "source": [
        "states, kernels = mcmc_run_dual(init_state_prior, \n",
        "                                target_log_prob_fn, \n",
        "                                [tfb.Identity(), tfb.Softplus(), tfb.Identity(), tfb.Softplus(), tfb.Identity()])"
      ],
      "metadata": {
        "id": "okgJqV6ZUtYW"
      },
      "execution_count": null,
      "outputs": []
    },
    {
      "cell_type": "code",
      "source": [
        "# \n",
        "print('pool mean=', states[4].numpy().mean())\n",
        "print('pool sc=', states[3].numpy().mean())\n",
        "print('segment =', states[2].numpy().mean(axis=0))\n",
        "print('hyper tau =', states[1].numpy().mean())\n",
        "print('hyper mu =', states[0].numpy().mean())\n",
        "\n",
        "print('recover mean:')\n",
        "states[4].numpy().mean() + states[2].numpy().mean(axis=0)\n"
      ],
      "metadata": {
        "colab": {
          "base_uri": "https://localhost:8080/"
        },
        "id": "b0NCleYti2H6",
        "outputId": "9e0f034b-2c94-4907-8de3-cdfb1bd70626"
      },
      "execution_count": null,
      "outputs": [
        {
          "output_type": "stream",
          "name": "stdout",
          "text": [
            "pool mean= 9.877331\n",
            "pool sc= 5.34104\n",
            "segment = [17.802338   -0.16821226 -5.4932446 ]\n",
            "hyper tau = 6.076803\n",
            "hyper mu = 4.256919\n",
            "recover mean:\n"
          ]
        },
        {
          "output_type": "execute_result",
          "data": {
            "text/plain": [
              "array([27.679668,  9.709119,  4.384086], dtype=float32)"
            ]
          },
          "metadata": {},
          "execution_count": 144
        }
      ]
    },
    {
      "cell_type": "markdown",
      "source": [
        "## Bootstrap MCMC and Expectation"
      ],
      "metadata": {
        "id": "DEg14RLhAt5S"
      }
    },
    {
      "cell_type": "code",
      "source": [
        "# check MCMC one step\n",
        "hmc = tfp.mcmc.HamiltonianMonteCarlo(\n",
        "    target_log_prob_fn=target_log_prob_fn,\n",
        "    step_size=0.015,\n",
        "    num_leapfrog_steps=3)\n",
        "\n",
        "# internally HamiltonianMonteCarlo uses this so we can access inner_kernel\n",
        "hmc = tfp.mcmc.MetropolisHastings(\n",
        "    tfp.mcmc.UncalibratedHamiltonianMonteCarlo(\n",
        "        target_log_prob_fn=target_log_prob_fn,\n",
        "        step_size=0.1,\n",
        "        num_leapfrog_steps=3))\n",
        "\n",
        "kernel_results = hmc.bootstrap_results(init_state_prior)\n",
        "kernel_results.accepted_results.target_log_prob\n",
        "print(kernel_results.accepted_results)\n",
        "print(hmc.inner_kernel)\n",
        "\n",
        "proposed_state, proposed_results = hmc.inner_kernel.one_step(init_state_prior, kernel_results.accepted_results)"
      ],
      "metadata": {
        "colab": {
          "base_uri": "https://localhost:8080/"
        },
        "id": "CTZlE6t184Vo",
        "outputId": "0c6218ad-542a-4eca-a20a-f59e08a70e14"
      },
      "execution_count": null,
      "outputs": [
        {
          "output_type": "stream",
          "name": "stdout",
          "text": [
            "UncalibratedHamiltonianMonteCarloKernelResults(\n",
            "  log_acceptance_correction=<tf.Tensor: shape=(), dtype=float32, numpy=0.0>,\n",
            "  target_log_prob=<tf.Tensor: shape=(), dtype=float32, numpy=-501.19904>,\n",
            "  grads_target_log_prob=[<tf.Tensor: shape=(), dtype=float32, numpy=-0.038234256>, <tf.Tensor: shape=(), dtype=float32, numpy=-2.2814758>, <tf.Tensor: shape=(3,), dtype=float32, numpy=array([ 17.365917 ,  -6.9865375, -16.19313  ], dtype=float32)>, <tf.Tensor: shape=(), dtype=float32, numpy=224.9885>, <tf.Tensor: shape=(), dtype=float32, numpy=-5.3730164>],\n",
            "  initial_momentum=[<tf.Tensor: shape=(), dtype=float32, numpy=0.0>, <tf.Tensor: shape=(), dtype=float32, numpy=0.0>, <tf.Tensor: shape=(3,), dtype=float32, numpy=array([0., 0., 0.], dtype=float32)>, <tf.Tensor: shape=(), dtype=float32, numpy=0.0>, <tf.Tensor: shape=(), dtype=float32, numpy=0.0>],\n",
            "  final_momentum=[<tf.Tensor: shape=(), dtype=float32, numpy=0.0>, <tf.Tensor: shape=(), dtype=float32, numpy=0.0>, <tf.Tensor: shape=(3,), dtype=float32, numpy=array([0., 0., 0.], dtype=float32)>, <tf.Tensor: shape=(), dtype=float32, numpy=0.0>, <tf.Tensor: shape=(), dtype=float32, numpy=0.0>],\n",
            "  step_size=[],\n",
            "  num_leapfrog_steps=[],\n",
            "  seed=[]\n",
            ")\n",
            "<tensorflow_probability.python.mcmc.hmc.UncalibratedHamiltonianMonteCarlo object at 0x7f2676a51b90>\n"
          ]
        }
      ]
    },
    {
      "cell_type": "markdown",
      "source": [
        "## Non-Centered Multi-Level with Pooled Mean: Normal Likelihood"
      ],
      "metadata": {
        "id": "lKTKK9UdBLuc"
      }
    },
    {
      "cell_type": "code",
      "source": [
        "# centered multi-level\n",
        "model = tfd.JointDistributionSequential([\n",
        "  tfd.Normal(loc=0., scale=10.),  # pooled mean\n",
        "  tfd.Normal(loc=5., scale=1.),  # tau hyper prior\n",
        "\n",
        "  # segment ~ N(0, 1)\n",
        "  lambda _: tfd.Independent(\n",
        "      tfd.Normal(\n",
        "          loc=tf.zeros(num_segments),\n",
        "          scale=tf.ones(num_segments)), \n",
        "        reinterpreted_batch_ndims=1),\n",
        "\n",
        "  tfd.Normal(loc=5., scale=1.),  # pooled sc     \n",
        "\n",
        "  # non-centered multi-level\n",
        "  # tau will determine the degree of pooling level\n",
        "  lambda sc, seg_eff, tau, mean: \n",
        "    tfd.Independent(\n",
        "        tfd.Normal(\n",
        "            loc=mean + tf.gather(seg_eff, sample_segment) * tau, \n",
        "            scale=sc), \n",
        "          reinterpreted_batch_ndims=1) \n",
        "])\n",
        "\n",
        "\n",
        "model.sample(1)"
      ],
      "metadata": {
        "colab": {
          "base_uri": "https://localhost:8080/"
        },
        "id": "ta7tPjAcBXcV",
        "outputId": "76e749d1-784b-43ac-c3fd-c64ab8a0d418"
      },
      "execution_count": null,
      "outputs": [
        {
          "output_type": "execute_result",
          "data": {
            "text/plain": [
              "[<tf.Tensor: shape=(1,), dtype=float32, numpy=array([-5.298491], dtype=float32)>,\n",
              " <tf.Tensor: shape=(1,), dtype=float32, numpy=array([5.993776], dtype=float32)>,\n",
              " <tf.Tensor: shape=(3,), dtype=float32, numpy=array([2.3179882, 1.9950273, 1.065626 ], dtype=float32)>,\n",
              " <tf.Tensor: shape=(1,), dtype=float32, numpy=array([5.052293], dtype=float32)>,\n",
              " <tf.Tensor: shape=(30,), dtype=float32, numpy=\n",
              " array([10.127832 , 12.451334 ,  3.2078671, 10.156356 , 12.192538 ,\n",
              "         9.801848 ,  8.25924  ,  8.719268 ,  9.96419  ,  7.3505316,\n",
              "        13.731631 ,  6.212725 ,  1.3092108,  6.95438  , -2.9004512,\n",
              "        11.709936 ,  3.838882 ,  3.4632978, -1.1662292,  3.649712 ,\n",
              "        -4.195501 ,  5.607013 , -1.0003219, -5.7458754,  5.1385775,\n",
              "        11.245331 ,  3.484091 , 13.492812 , -6.1119547, -5.8696256],\n",
              "       dtype=float32)>]"
            ]
          },
          "metadata": {},
          "execution_count": 150
        }
      ]
    },
    {
      "cell_type": "code",
      "source": [
        "init_state_prior = model.sample(1)[:-1]\n",
        "init_state_prior = [tf.squeeze(x) for x in init_state_prior]\n",
        "init_state_prior"
      ],
      "metadata": {
        "colab": {
          "base_uri": "https://localhost:8080/"
        },
        "id": "tiuDVzgxJ8s6",
        "outputId": "be5728df-b09e-478d-95c2-71d1e88d008d"
      },
      "execution_count": null,
      "outputs": [
        {
          "output_type": "execute_result",
          "data": {
            "text/plain": [
              "[<tf.Tensor: shape=(), dtype=float32, numpy=1.3581139>,\n",
              " <tf.Tensor: shape=(), dtype=float32, numpy=3.4316115>,\n",
              " <tf.Tensor: shape=(3,), dtype=float32, numpy=array([-0.01797873, -1.2139146 ,  0.2831507 ], dtype=float32)>,\n",
              " <tf.Tensor: shape=(), dtype=float32, numpy=6.054669>]"
            ]
          },
          "metadata": {},
          "execution_count": 151
        }
      ]
    },
    {
      "cell_type": "code",
      "source": [
        "#states, kernels = mcmc_run_simple(init_state_prior, target_log_prob_fn)\n",
        "\n",
        "states, kernels = mcmc_run_dual(init_state_prior, \n",
        "                                target_log_prob_fn, \n",
        "                                [tfb.Identity(), tfb.Softplus(), tfb.Identity(), tfb.Softplus()])"
      ],
      "metadata": {
        "id": "5IabvjkYKEnG"
      },
      "execution_count": null,
      "outputs": []
    },
    {
      "cell_type": "code",
      "source": [
        "\n",
        "# segment random coefficients\n",
        "# \n",
        "print('pool sc=', states[3].numpy().mean())\n",
        "print('segment =', states[2].numpy().mean(axis=0))\n",
        "print('hyper tau =', states[1].numpy().mean())\n",
        "print('pool mean =', states[0].numpy().mean())\n",
        "\n",
        "print('recover mean:')\n",
        "states[0].numpy().mean() + states[2].numpy().mean(axis=0)"
      ],
      "metadata": {
        "colab": {
          "base_uri": "https://localhost:8080/"
        },
        "id": "5MgMNhS2rR4g",
        "outputId": "0610262f-e0c1-473a-bda3-6bd2f7f29cd0"
      },
      "execution_count": null,
      "outputs": [
        {
          "output_type": "stream",
          "name": "stdout",
          "text": [
            "pool sc= 5.256248\n",
            "segment = [ 3.0016313   0.06285957 -0.8820417 ]\n",
            "hyper tau = 6.08828\n",
            "pool mean = 9.052127\n",
            "recover mean:\n"
          ]
        },
        {
          "output_type": "execute_result",
          "data": {
            "text/plain": [
              "array([12.053759,  9.114986,  8.170085], dtype=float32)"
            ]
          },
          "metadata": {},
          "execution_count": 153
        }
      ]
    },
    {
      "cell_type": "markdown",
      "source": [
        "## Inverse Gaussian Likelihood - E(D) ~ InvGaussian"
      ],
      "metadata": {
        "id": "GN5l2xrrLJXB"
      }
    },
    {
      "cell_type": "code",
      "source": [
        "# seg1\n",
        "def gen_invgauss(hypermu, hypertau, sample_size):\n",
        "  return tfd.InverseGaussian(\n",
        "    loc=tfd.Normal(10., 1.).sample(1) + \n",
        "      tfd.InverseGaussian(\n",
        "          loc=tfd.Normal(hypermu[0], hypermu[1]).sample(1),\n",
        "          concentration=tfd.Normal(hypertau[0], hypertau[1]).sample(1)\n",
        "      ).sample(1), \n",
        "    concentration=tfd.Normal(5., 1.).sample(1)).sample(sample_size)\n",
        "\n",
        "\n",
        "sample_data = [*gen_invgauss((20., 1.), (5., 1.), 10).numpy().squeeze(),  # segment 1\n",
        "                *gen_invgauss((15., 1.), (5., 1.), 10).numpy().squeeze(), # segment 2\n",
        "                *gen_invgauss((15., 1.), (5., 1.), 10).numpy().squeeze() # segment 3\n",
        "                ]\n",
        "\n",
        "num_segments = 3\n",
        "sample_segment = [*np.repeat(0, 10), *np.repeat(1, 10), *np.repeat(2, 10)]\n",
        "\n",
        "(np.mean(sample_data[:10]), np.mean(sample_data[10:20]), np.mean(sample_data[20:30]))"
      ],
      "metadata": {
        "colab": {
          "base_uri": "https://localhost:8080/"
        },
        "id": "mHAuntZFA8mm",
        "outputId": "c1ec5281-1269-4eba-bbb9-0bfe0f3e38ed"
      },
      "execution_count": null,
      "outputs": [
        {
          "output_type": "execute_result",
          "data": {
            "text/plain": [
              "(46.24634, 26.008976, 21.900906)"
            ]
          },
          "metadata": {},
          "execution_count": 19
        }
      ]
    },
    {
      "cell_type": "code",
      "source": [
        "# centered multi-level\n",
        "model = tfd.JointDistributionSequential([\n",
        "  tfd.Normal(loc=20., scale=1.),  # mu hyper prior\n",
        "  tfd.Normal(loc=5., scale=1.),  # tau hyper prior\n",
        "\n",
        "  # segment effects\n",
        "  lambda tau, mu: tfd.Independent(\n",
        "      tfd.InverseGaussian(\n",
        "          loc=tf.ones(num_segments) * mu,\n",
        "          concentration=tau), \n",
        "        reinterpreted_batch_ndims=1),\n",
        "\n",
        "  tfd.Normal(loc=5., scale=1.),  # pooled con     \n",
        "  tfd.Normal(loc=10., scale=1.),  # pooled mean     \n",
        "\n",
        "  lambda mean, con, seg_eff, tau, mu: tfd.Independent(\n",
        "      tfd.InverseGaussian(\n",
        "          loc=mean + tf.gather(seg_eff, sample_segment), \n",
        "          concentration=con), \n",
        "        reinterpreted_batch_ndims=1)\n",
        "])\n",
        "\n",
        "\n",
        "model.sample(1)"
      ],
      "metadata": {
        "id": "UfMMEngILMcd",
        "colab": {
          "base_uri": "https://localhost:8080/"
        },
        "outputId": "0c81d948-94f2-4c1a-9170-c4795f0a3c6d"
      },
      "execution_count": null,
      "outputs": [
        {
          "output_type": "stream",
          "name": "stdout",
          "text": [
            "WARNING:tensorflow:@custom_gradient grad_fn has 'variables' in signature, but no ResourceVariables were used on the forward pass.\n",
            "WARNING:tensorflow:@custom_gradient grad_fn has 'variables' in signature, but no ResourceVariables were used on the forward pass.\n"
          ]
        },
        {
          "output_type": "execute_result",
          "data": {
            "text/plain": [
              "[<tf.Tensor: shape=(1,), dtype=float32, numpy=array([20.855316], dtype=float32)>,\n",
              " <tf.Tensor: shape=(1,), dtype=float32, numpy=array([4.580132], dtype=float32)>,\n",
              " <tf.Tensor: shape=(3,), dtype=float32, numpy=array([34.3951   , 19.64031  ,  3.3982825], dtype=float32)>,\n",
              " <tf.Tensor: shape=(1,), dtype=float32, numpy=array([4.2118573], dtype=float32)>,\n",
              " <tf.Tensor: shape=(1,), dtype=float32, numpy=array([8.726359], dtype=float32)>,\n",
              " <tf.Tensor: shape=(30,), dtype=float32, numpy=\n",
              " array([  7.700204  ,   1.3017842 , 103.44781   ,   1.6039978 ,\n",
              "          2.0240557 ,  10.114746  ,   0.6932087 ,  15.266415  ,\n",
              "          4.83981   ,   2.492891  ,  34.25634   ,   1.4207306 ,\n",
              "         29.137371  ,   4.397866  ,   3.5568922 ,  33.987255  ,\n",
              "          3.2681527 ,  10.790403  ,   2.6242285 ,   4.026872  ,\n",
              "          9.565543  ,   1.3787609 ,   0.93280584,  10.192049  ,\n",
              "          3.2980587 ,   7.5055037 ,   4.8420825 ,   3.5081747 ,\n",
              "         12.46052   ,  14.481946  ], dtype=float32)>]"
            ]
          },
          "metadata": {},
          "execution_count": 20
        }
      ]
    },
    {
      "cell_type": "code",
      "source": [
        "samples = model.sample(1)\n",
        "print(samples)\n",
        "#sample_data = samples[-1]\n",
        "sample_priors = samples[:-1]\n",
        "model.log_prob_parts(samples)"
      ],
      "metadata": {
        "colab": {
          "base_uri": "https://localhost:8080/"
        },
        "id": "IfD2zvFRJR_C",
        "outputId": "b1c078ce-d041-428d-c41f-ce22420d1688"
      },
      "execution_count": null,
      "outputs": [
        {
          "output_type": "stream",
          "name": "stdout",
          "text": [
            "[<tf.Tensor: shape=(1,), dtype=float32, numpy=array([20.40563], dtype=float32)>, <tf.Tensor: shape=(1,), dtype=float32, numpy=array([4.476732], dtype=float32)>, <tf.Tensor: shape=(3,), dtype=float32, numpy=array([13.847706 ,  3.9496722,  2.1079385], dtype=float32)>, <tf.Tensor: shape=(1,), dtype=float32, numpy=array([6.599988], dtype=float32)>, <tf.Tensor: shape=(1,), dtype=float32, numpy=array([10.752052], dtype=float32)>, <tf.Tensor: shape=(30,), dtype=float32, numpy=\n",
            "array([ 6.56479  ,  1.6680896,  1.1255519,  2.356922 , 16.02023  ,\n",
            "        2.7315688,  9.514123 ,  1.890434 , 33.071724 , 93.20746  ,\n",
            "       12.143097 ,  6.0066495, 18.136318 ,  3.365411 , 10.415132 ,\n",
            "       11.090991 ,  1.5251104,  5.0145874, 15.211153 , 11.743227 ,\n",
            "       10.726705 , 11.186402 ,  6.7708626,  2.9365609,  6.5919466,\n",
            "        4.288242 ,  6.5893703,  4.4199357, 12.470299 ,  4.8206515],\n",
            "      dtype=float32)>]\n"
          ]
        },
        {
          "output_type": "execute_result",
          "data": {
            "text/plain": [
              "[<tf.Tensor: shape=(1,), dtype=float32, numpy=array([-1.0012064], dtype=float32)>,\n",
              " <tf.Tensor: shape=(1,), dtype=float32, numpy=array([-1.0558434], dtype=float32)>,\n",
              " <tf.Tensor: shape=(), dtype=float32, numpy=-8.868751>,\n",
              " <tf.Tensor: shape=(1,), dtype=float32, numpy=array([-2.1989193], dtype=float32)>,\n",
              " <tf.Tensor: shape=(1,), dtype=float32, numpy=array([-1.2017299], dtype=float32)>,\n",
              " <tf.Tensor: shape=(), dtype=float32, numpy=-98.32765>]"
            ]
          },
          "metadata": {},
          "execution_count": 10
        }
      ]
    },
    {
      "cell_type": "code",
      "source": [
        "sample_priors = model.sample(1)[:-1]\n",
        "model.log_prob_parts([*sample_priors, sample_data])"
      ],
      "metadata": {
        "colab": {
          "base_uri": "https://localhost:8080/"
        },
        "id": "cm0ZZnEvI_4Q",
        "outputId": "c99cfd03-0f74-4d68-c0f0-fd574dcda421"
      },
      "execution_count": null,
      "outputs": [
        {
          "output_type": "execute_result",
          "data": {
            "text/plain": [
              "[<tf.Tensor: shape=(1,), dtype=float32, numpy=array([-2.3039825], dtype=float32)>,\n",
              " <tf.Tensor: shape=(1,), dtype=float32, numpy=array([-1.9715383], dtype=float32)>,\n",
              " <tf.Tensor: shape=(), dtype=float32, numpy=-9.87714>,\n",
              " <tf.Tensor: shape=(1,), dtype=float32, numpy=array([-1.08834], dtype=float32)>,\n",
              " <tf.Tensor: shape=(1,), dtype=float32, numpy=array([-2.0942154], dtype=float32)>,\n",
              " <tf.Tensor: shape=(), dtype=float32, numpy=-111.52952>]"
            ]
          },
          "metadata": {},
          "execution_count": 11
        }
      ]
    },
    {
      "cell_type": "code",
      "source": [
        "def target_log_prob_fn(*params):\n",
        "  return model.log_prob(params + (sample_data, ))\n",
        "\n",
        "target_log_prob_fn(*sample_priors)"
      ],
      "metadata": {
        "colab": {
          "base_uri": "https://localhost:8080/"
        },
        "id": "x2aQZlwmJqxg",
        "outputId": "30ab4f0c-acf0-49cd-9422-58c87a1ca1fd"
      },
      "execution_count": null,
      "outputs": [
        {
          "output_type": "execute_result",
          "data": {
            "text/plain": [
              "<tf.Tensor: shape=(1,), dtype=float32, numpy=array([-128.86473], dtype=float32)>"
            ]
          },
          "metadata": {},
          "execution_count": 12
        }
      ]
    },
    {
      "cell_type": "code",
      "source": [
        "init_state_prior = model.sample(1)[:-1]\n",
        "init_state_prior = [tf.squeeze(x) for x in init_state_prior]\n",
        "init_state_prior"
      ],
      "metadata": {
        "colab": {
          "base_uri": "https://localhost:8080/"
        },
        "id": "JqdpVWwqTUQT",
        "outputId": "e8503438-9e51-431c-9b52-a088f0e0d545"
      },
      "execution_count": null,
      "outputs": [
        {
          "output_type": "execute_result",
          "data": {
            "text/plain": [
              "[<tf.Tensor: shape=(), dtype=float32, numpy=19.535088>,\n",
              " <tf.Tensor: shape=(), dtype=float32, numpy=3.535799>,\n",
              " <tf.Tensor: shape=(3,), dtype=float32, numpy=array([3.817508 , 4.6954713, 0.6031735], dtype=float32)>,\n",
              " <tf.Tensor: shape=(), dtype=float32, numpy=5.2614326>,\n",
              " <tf.Tensor: shape=(), dtype=float32, numpy=13.092587>]"
            ]
          },
          "metadata": {},
          "execution_count": 21
        }
      ]
    },
    {
      "cell_type": "code",
      "source": [
        "states, kernels = mcmc_run_dual(init_state_prior, \n",
        "                                target_log_prob_fn, \n",
        "                                [tfb.Identity(), tfb.Softplus(), tfb.Identity(), tfb.Softplus(), tfb.Identity()])\n"
      ],
      "metadata": {
        "id": "Ypj_p8vLTfr5"
      },
      "execution_count": null,
      "outputs": []
    },
    {
      "cell_type": "code",
      "source": [
        "# spot check\n",
        "states[4][:50]"
      ],
      "metadata": {
        "colab": {
          "base_uri": "https://localhost:8080/"
        },
        "id": "OAvBlfyPKrge",
        "outputId": "6348ed00-637c-4224-fa71-2fcefeaad988"
      },
      "execution_count": null,
      "outputs": [
        {
          "output_type": "execute_result",
          "data": {
            "text/plain": [
              "<tf.Tensor: shape=(50,), dtype=float32, numpy=\n",
              "array([10.894014 , 10.894014 , 10.921763 , 10.599963 ,  9.915589 ,\n",
              "       10.763045 ,  9.8496   , 10.61969  ,  9.903763 , 10.628729 ,\n",
              "        9.831019 , 10.544575 ,  9.728827 , 10.3594885,  9.7000265,\n",
              "       10.475151 ,  9.686661 , 10.475242 ,  9.736767 , 10.4396515,\n",
              "        9.778593 , 10.435515 ,  9.667163 , 10.419586 ,  9.764664 ,\n",
              "       10.324897 ,  9.761891 , 10.282962 ,  9.689324 , 10.369272 ,\n",
              "        9.651732 , 10.411853 ,  9.795025 , 10.468335 ,  9.919574 ,\n",
              "       10.785205 ,  9.855764 , 10.843621 ,  9.967306 , 10.812167 ,\n",
              "        9.78414  , 10.678479 , 10.678479 , 10.678479 ,  9.691377 ,\n",
              "       10.6689415, 10.6689415,  9.7830515, 10.610923 ,  9.808554 ],\n",
              "      dtype=float32)>"
            ]
          },
          "metadata": {},
          "execution_count": 23
        }
      ]
    },
    {
      "cell_type": "code",
      "source": [
        "# \n",
        "print('pool mean=', states[4].numpy().mean())\n",
        "print('pool sc=', states[3].numpy().mean())\n",
        "print('segment =', states[2].numpy().mean(axis=0))\n",
        "print('hyper tau =', states[1].numpy().mean())\n",
        "print('hyper mu =', states[0].numpy().mean())\n",
        "\n",
        "print('recover mean:')\n",
        "states[4].numpy().mean() + states[2].numpy().mean(axis=0)"
      ],
      "metadata": {
        "colab": {
          "base_uri": "https://localhost:8080/"
        },
        "id": "S7jA8v7UT_60",
        "outputId": "f65eff18-2a58-4fac-eae9-4c6c1ba1b00d"
      },
      "execution_count": null,
      "outputs": [
        {
          "output_type": "stream",
          "name": "stdout",
          "text": [
            "pool mean= 10.329773\n",
            "pool sc= 5.2572002\n",
            "segment = [13.436426 11.54477   8.80277 ]\n",
            "hyper tau = 5.17677\n",
            "hyper mu = 19.989313\n",
            "recover mean:\n"
          ]
        },
        {
          "output_type": "execute_result",
          "data": {
            "text/plain": [
              "array([23.7662  , 21.874542, 19.132542], dtype=float32)"
            ]
          },
          "metadata": {},
          "execution_count": 24
        }
      ]
    }
  ],
  "metadata": {
    "colab": {
      "collapsed_sections": [],
      "name": "Multi-Level: Examples",
      "provenance": [],
      "include_colab_link": true
    },
    "kernelspec": {
      "display_name": "Python 3",
      "name": "python3"
    }
  },
  "nbformat": 4,
  "nbformat_minor": 0
}